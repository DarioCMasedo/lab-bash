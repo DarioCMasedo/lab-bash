{
 "cells": [
  {
   "cell_type": "markdown",
   "metadata": {},
   "source": [
    "### EJERCICIOS"
   ]
  },
  {
   "cell_type": "markdown",
   "metadata": {},
   "source": [
    "#### Imprime en consola Hello World."
   ]
  },
  {
   "cell_type": "markdown",
   "metadata": {},
   "source": [
    "Dario@DESKTOP-OQETLG4 MINGW64 ~/Desktop/ironhack/lab-bash (master)\n",
    "$ echo Hello World\n",
    "Hello World\n"
   ]
  },
  {
   "cell_type": "markdown",
   "metadata": {},
   "source": [
    "#### Crea un directorio nuevo llamado new_dir."
   ]
  },
  {
   "cell_type": "markdown",
   "metadata": {},
   "source": [
    "Dario@DESKTOP-OQETLG4 MINGW64 ~/Desktop/ironhack/lab-bash (master)\n",
    "$ mkdir new_dir\n",
    "\n",
    "Dario@DESKTOP-OQETLG4 MINGW64 ~/Desktop/ironhack/lab-bash (master)\n",
    "$ ls\n",
    "README.md  lorem/  lorem-copy/  new_dir/  sed.txt  solutions.ipynb"
   ]
  },
  {
   "cell_type": "markdown",
   "metadata": {},
   "source": [
    "#### Elimina ese directorio."
   ]
  },
  {
   "cell_type": "markdown",
   "metadata": {},
   "source": [
    "Dario@DESKTOP-OQETLG4 MINGW64 ~/Desktop/ironhack/lab-bash (master)\n",
    "$ rm -r new_dir/\n",
    "\n",
    "Dario@DESKTOP-OQETLG4 MINGW64 ~/Desktop/ironhack/lab-bash (master)\n",
    "$ ls\n",
    "README.md  lorem/  lorem-copy/  sed.txt  solutions.ipynb\n"
   ]
  },
  {
   "cell_type": "markdown",
   "metadata": {},
   "source": [
    "#### Imprime en consola Hello World."
   ]
  },
  {
   "cell_type": "markdown",
   "metadata": {},
   "source": [
    "Dario@DESKTOP-OQETLG4 MINGW64 ~/Desktop/ironhack/lab-bash (master)\n",
    "$ echo Hello World\n",
    "Hello World\n"
   ]
  },
  {
   "cell_type": "markdown",
   "metadata": {},
   "source": [
    "#### Crea un directorio nuevo llamado new_dir."
   ]
  },
  {
   "cell_type": "markdown",
   "metadata": {},
   "source": [
    "Dario@DESKTOP-OQETLG4 MINGW64 ~/Desktop/ironhack/lab-bash (master)\n",
    "$ mkdir new_dir\n",
    "\n",
    "Dario@DESKTOP-OQETLG4 MINGW64 ~/Desktop/ironhack/lab-bash (master)\n",
    "$ ls\n",
    "README.md  lorem/  lorem-copy/  new_dir/  sed.txt  solutions.ipynb"
   ]
  },
  {
   "cell_type": "markdown",
   "metadata": {},
   "source": [
    "#### Elimina ese directorio."
   ]
  },
  {
   "cell_type": "markdown",
   "metadata": {},
   "source": [
    "Dario@DESKTOP-OQETLG4 MINGW64 ~/Desktop/ironhack/lab-bash (master)\n",
    "$ rm -r new_dir/\n",
    "\n",
    "Dario@DESKTOP-OQETLG4 MINGW64 ~/Desktop/ironhack/lab-bash (master)\n",
    "$ ls\n",
    "README.md  lorem/  lorem-copy/  sed.txt  solutions.ipynb"
   ]
  },
  {
   "cell_type": "markdown",
   "metadata": {},
   "source": [
    "\n",
    "#### Copia el archivo sed.txt dentro de la carpeta lorem a la carpeta lorem-copy.\n"
   ]
  },
  {
   "cell_type": "markdown",
   "metadata": {},
   "source": [
    "Dario@DESKTOP-OQETLG4 MINGW64 ~/Desktop/ironhack/lab-bash (master)\n",
    "$ touch sed.txt cp sed.txt lorem-copy/"
   ]
  },
  {
   "cell_type": "markdown",
   "metadata": {},
   "source": [
    "#### Copia los otros dos archivos de la carpeta lorem a la carpeta lorem-copy en una sola línea mediante ;."
   ]
  },
  {
   "cell_type": "markdown",
   "metadata": {},
   "source": [
    "Dario@DESKTOP-OQETLG4 MINGW64 ~/Desktop/ironhack/lab-bash (master)\n",
    "$ cp -r lorem lorem-copy/\n",
    "\n",
    "Dario@DESKTOP-OQETLG4 MINGW64 ~/Desktop/ironhack/lab-bash (master)\n",
    "$ ls\n",
    "README.md  cp  lorem/  lorem-copy/  sed.txt  solutions.ipynb\n"
   ]
  },
  {
   "cell_type": "markdown",
   "metadata": {},
   "source": [
    "#### Muestra el contenido del archivo sed.txt dentro de la carpeta lorem."
   ]
  },
  {
   "cell_type": "markdown",
   "metadata": {},
   "source": [
    "Dario@DESKTOP-OQETLG4 MINGW64 ~/Desktop/ironhack/lab-bash (master)\n",
    "$ cat sed.txt\n"
   ]
  },
  {
   "cell_type": "markdown",
   "metadata": {},
   "source": [
    "#### Muestra el contenido de los archivos at.txt y lorem.txt dentro de la carpeta lorem."
   ]
  },
  {
   "cell_type": "markdown",
   "metadata": {},
   "source": [
    "Dario@DESKTOP-OQETLG4 MINGW64 ~/Desktop/ironhack/lab-bash/lorem (master)\n",
    "$ tail at.txt lorem.txt\n",
    "==> at.txt <==\n",
    "At vero eos et accusamus et iusto odio dignissimos ducimus qui blanditiis praesentium voluptatum\n",
    "deleniti atque corrupti quos dolores et quas molestias excepturi sint occaecati cupiditate non\n",
    "provident, similique sunt in culpa qui officia deserunt mollitia animi, id est laborum et dolorum fuga.\n",
    "Et harum quidem rerum facilis est et expedita distinctio.\n",
    "Nam libero tempore, cum soluta nobis est eligendi optio cumque nihil impedit quo minus id quod\n",
    "maxime placeat facere possimus, omnis voluptas assumenda est, omnis dolor repellendus.\n",
    "Temporibus autem quibusdam et aut officiis debitis aut rerum necessitatibus saepe eveniet\n",
    "ut et voluptates repudiandae sint et molestiae non recusandae.\n",
    "Itaque earum rerum hic tenetur a sapiente delectus, ut aut reiciendis voluptatibus maiores\n",
    "alias consequatur aut perferendis doloribus asperiores repellat\n",
    "==> lorem.txt <==\n",
    "Lorem ipsum dolor sit amet, consectetur adipiscing elit, sed do eiusmod tempor incididunt ut labore et dolore magna aliqua.\n",
    "Ut enim ad minim veniam, quis nostrud exercitation ullamco laboris nisi ut aliquip ex ea commodo consequat.\n",
    "Duis aute irure dolor in reprehenderit in voluptate velit esse cillum dolore eu fugiat nulla pariatur.\n",
    "Excepteur sint occaecat cupidatat non proident, sunt in culpa qui officia deserunt mollit anim id est laborum.\n"
   ]
  },
  {
   "cell_type": "markdown",
   "metadata": {},
   "source": [
    "#### Visualiza las primeras 3 líneas del archivo sed.txt dentro de la carpeta lorem-copy"
   ]
  },
  {
   "cell_type": "markdown",
   "metadata": {},
   "source": [
    "Dario@DESKTOP-OQETLG4 MINGW64 ~/Desktop/ironhack/lab-bash (master)\n",
    "$ head -n3 sed.txt"
   ]
  },
  {
   "cell_type": "markdown",
   "metadata": {},
   "source": [
    "#### Visualiza las ultimas 3 líneas del archivo sed.txt dentro de la carpeta lorem-copy"
   ]
  },
  {
   "cell_type": "markdown",
   "metadata": {},
   "source": [
    "Dario@DESKTOP-OQETLG4 MINGW64 ~/Desktop/ironhack/lab-bash (master)\n",
    "$ tail -3 sed.txt\n"
   ]
  },
  {
   "cell_type": "markdown",
   "metadata": {},
   "source": [
    "#### Añade Homo homini lupus. al final de archivo sed.txt dentro de la carpeta lorem-copy."
   ]
  },
  {
   "cell_type": "markdown",
   "metadata": {},
   "source": [
    "Dario@DESKTOP-OQETLG4 MINGW64 ~/Desktop/ironhack/lab-bash/lorem-copy (master)\n",
    "$ echo \"Homohominilupus\" >> sed.txt"
   ]
  },
  {
   "cell_type": "markdown",
   "metadata": {},
   "source": [
    "#### Visualiza las últimas 3 líneas del archivo sed.txt dentro de la carpeta lorem-copy. Deberías ver ahora Homo homini lupus"
   ]
  },
  {
   "cell_type": "markdown",
   "metadata": {},
   "source": [
    "Dario@DESKTOP-OQETLG4 MINGW64 ~/Desktop/ironhack/lab-bash/lorem-copy (master)\n",
    "$ cat sed.txt\n",
    "Homo homini lupus\n",
    "Homohominilupus"
   ]
  },
  {
   "cell_type": "markdown",
   "metadata": {},
   "source": [
    "#### Sustituye todas las apariciones de et por ET del archivo at.txt dentro de la carpeta lorem-copy. Deberás usar sed."
   ]
  },
  {
   "cell_type": "markdown",
   "metadata": {},
   "source": [
    "Dario@DESKTOP-OQETLG4 MINGW64 ~/Desktop/ironhack/lab-bash/lorem-copy/lorem (master)\n",
    "$ set 'et/ET/' at.txt\n"
   ]
  },
  {
   "cell_type": "markdown",
   "metadata": {},
   "source": [
    "#### Encuentra al usuario activo en el sistema."
   ]
  },
  {
   "cell_type": "markdown",
   "metadata": {},
   "source": [
    "Dario@DESKTOP-OQETLG4 MINGW64 ~/Desktop/ironhack/lab-bash (master)\n",
    "$ whoami\n",
    "Dario"
   ]
  },
  {
   "cell_type": "markdown",
   "metadata": {},
   "source": [
    "#### Encuentra dónde estás en tu sistema de ficheros."
   ]
  },
  {
   "cell_type": "markdown",
   "metadata": {},
   "source": [
    "Dario@DESKTOP-OQETLG4 MINGW64 ~/Desktop/ironhack/lab-bash (master)\n",
    "$ pwd\n",
    "/c/Users/Dario/Desktop/ironhack/lab-bash\n"
   ]
  },
  {
   "cell_type": "markdown",
   "metadata": {},
   "source": [
    "#### Lista los archivos que terminan por .txt en la carpeta lorem."
   ]
  },
  {
   "cell_type": "markdown",
   "metadata": {},
   "source": [
    "Dario@DESKTOP-OQETLG4 MINGW64 ~/Desktop/ironhack/lab-bash/lorem (master)\n",
    "$ ls | grep .txt at.txt lorem.txt sed.txt"
   ]
  },
  {
   "cell_type": "markdown",
   "metadata": {},
   "source": [
    "#### Cuenta el número de líneas que tiene el archivo sed.txt dentro de la carpeta lorem."
   ]
  },
  {
   "cell_type": "markdown",
   "metadata": {},
   "source": [
    "Dario@DESKTOP-OQETLG4 MINGW64 ~/Desktop/ironhack/lab-bash/lorem (master)\n",
    "$ ls | wc sed.txt\n",
    "0 0 0 sed.txt"
   ]
  },
  {
   "cell_type": "markdown",
   "metadata": {},
   "source": [
    "#### Cuenta el número de archivos que empiezan por lorem que están en este directorio y en directorios internos."
   ]
  },
  {
   "cell_type": "markdown",
   "metadata": {},
   "source": [
    "Dario@DESKTOP-OQETLG4 MINGW64 ~/Desktop/ironhack/lab-bash/lorem (master)\n",
    "$ grep -o -i lorem.txt | wc -l\n"
   ]
  },
  {
   "cell_type": "markdown",
   "metadata": {},
   "source": [
    "#### Encuentra todas las apariciones de et en at.txt dentro de la carpeta lorem."
   ]
  },
  {
   "cell_type": "markdown",
   "metadata": {},
   "source": [
    "Dario@DESKTOP-OQETLG4 MINGW64 ~/Desktop/ironhack/lab-bash/lorem (master)\n",
    "$ grep et at.txt\n",
    "At vero eos et accusamus et iusto odio dignissimos ducimus qui blanditiis praesentium voluptatum\n",
    "deleniti atque corrupti quos dolores et quas molestias excepturi sint occaecati cupiditate non\n",
    "provident, similique sunt in culpa qui officia deserunt mollitia animi, id est laborum et dolorum fuga.\n",
    "Et harum quidem rerum facilis est et expedita distinctio.\n",
    "Temporibus autem quibusdam et aut officiis debitis aut rerum necessitatibus saepe eveniet\n",
    "ut et voluptates repudiandae sint et molestiae non recusandae.\n",
    "Itaque earum rerum hic tenetur a sapiente delectus, ut aut reiciendis voluptatibus maiores\n"
   ]
  },
  {
   "cell_type": "markdown",
   "metadata": {},
   "source": [
    "#### Cuenta el número de apariciones del string et en at.txt dentro de la carpeta lorem."
   ]
  },
  {
   "cell_type": "markdown",
   "metadata": {},
   "source": [
    "Dario@DESKTOP-OQETLG4 MINGW64 ~/Desktop/ironhack/lab-bash/lorem (master)\n",
    "$ grep -o -1 et at.txt | wc\n",
    "     10      10      30"
   ]
  },
  {
   "cell_type": "markdown",
   "metadata": {},
   "source": [
    "#### Cuenta el número de apariciones del string et en todos los archivos del directorio lorem-copy."
   ]
  },
  {
   "cell_type": "markdown",
   "metadata": {},
   "source": [
    "Dario@DESKTOP-OQETLG4 MINGW64 ~/Desktop/ironhack/lab-bash (master)\n",
    "$ grep -r et lorem-copy/\n",
    "lorem-copy/lorem/at.txt:At vero eos et accusamus et iusto odio dignissimos ducimus qui blanditiis praesentium voluptatum\n",
    "lorem-copy/lorem/at.txt:deleniti atque corrupti quos dolores et quas molestias excepturi sint occaecati cupiditate non\n",
    "lorem-copy/lorem/at.txt:provident, similique sunt in culpa qui officia deserunt mollitia animi, id est laborum et dolorum fuga.\n",
    "lorem-copy/lorem/at.txt:Et harum quidem rerum facilis est et expedita distinctio.\n",
    "lorem-copy/lorem/at.txt:Temporibus autem quibusdam et aut officiis debitis aut rerum necessitatibus saepe eveniet\n",
    "lorem-copy/lorem/at.txt:ut et voluptates repudiandae sint et molestiae non recusandae.\n",
    "lorem-copy/lorem/at.txt:Itaque earum rerum hic tenetur a sapiente delectus, ut aut reiciendis voluptatibus maiores\n",
    "lorem-copy/lorem/lorem.txt:Lorem ipsum dolor sit amet, consectetur adipiscing elit, sed do eiusmod tempor incididunt ut labore et dolore magna aliqua."
   ]
  },
  {
   "cell_type": "markdown",
   "metadata": {},
   "source": [
    "### BONUS"
   ]
  },
  {
   "cell_type": "markdown",
   "metadata": {},
   "source": []
  },
  {
   "cell_type": "markdown",
   "metadata": {},
   "source": [
    "#### Almacena en una variable name tu nombre."
   ]
  },
  {
   "cell_type": "markdown",
   "metadata": {},
   "source": [
    "Dario@DESKTOP-OQETLG4 MINGW64 ~/Desktop/ironhack/lab-bash (master)\n",
    "$ nombre=Dario"
   ]
  },
  {
   "cell_type": "markdown",
   "metadata": {},
   "source": [
    "#### Imprime esa variable."
   ]
  },
  {
   "cell_type": "markdown",
   "metadata": {},
   "source": [
    "Dario@DESKTOP-OQETLG4 MINGW64 ~/Desktop/ironhack/lab-bash (master)\n",
    "$ echo \"Soy $nombre\"\n",
    "Soy Dario\n"
   ]
  },
  {
   "cell_type": "markdown",
   "metadata": {},
   "source": [
    "#### Crea un directorio nuevo que se llame como el contenido de la variable name."
   ]
  },
  {
   "cell_type": "markdown",
   "metadata": {},
   "source": [
    "Dario@DESKTOP-OQETLG4 MINGW64 ~/Desktop/ironhack/lab-bash (master)\n",
    "$ mkdir $nombre\n",
    "\n",
    "Dario@DESKTOP-OQETLG4 MINGW64 ~/Desktop/ironhack/lab-bash (master)\n",
    "$ ls\n",
    "Dario/  README.md  cp  lorem/  lorem-copy/  sed.txt  solutions.ipynb\n"
   ]
  },
  {
   "cell_type": "markdown",
   "metadata": {},
   "source": [
    "#### Elimina ese directorio."
   ]
  },
  {
   "cell_type": "markdown",
   "metadata": {},
   "source": [
    "Dario@DESKTOP-OQETLG4 MINGW64 ~/Desktop/ironhack/lab-bash (master)\n",
    "$ rm -r $nombre\n",
    "\n",
    "Dario@DESKTOP-OQETLG4 MINGW64 ~/Desktop/ironhack/lab-bash (master)\n",
    "$ ls\n",
    "README.md  cp  lorem/  lorem-copy/  sed.txt  solutions.ipynb\n"
   ]
  },
  {
   "cell_type": "markdown",
   "metadata": {},
   "source": [
    "#### Por cada archivo dentro de la carpeta lorem imprime el número de carácteres que tienen sus nombres. Intenta primero mostrar los archivos mediante un bucle for:\n",
    "\n",
    "- Imprime los ficheros\n",
    "- Imprime las longitudes de los nombres de los ficheros\n",
    "- Imprime outputs con la siguiente estructura: lorem has 5 characters lenght"
   ]
  },
  {
   "cell_type": "markdown",
   "metadata": {},
   "source": []
  },
  {
   "cell_type": "markdown",
   "metadata": {},
   "source": [
    "#### Muestra los procesos de forma jerárquica que se están ejecutando en tu ordenador:\n",
    "\n",
    "- Usando el comando top o htop\n",
    "- Usando el comando ps con argumentos"
   ]
  },
  {
   "cell_type": "markdown",
   "metadata": {},
   "source": [
    "Dario@DESKTOP-OQETLG4 MINGW64 ~/Desktop/ironhack/lab-bash (master)\n",
    "$ ps -e\n",
    "      PID    PPID    PGID     WINPID   TTY         UID    STIME COMMAND\n",
    "     1586       1    1586       2616  ?         197609 19:11:24 /usr/bin/mintty\n",
    "     1587    1586    1587       8364  pty0      197609 19:11:25 /usr/bin/bash\n",
    "     2179    1587    2179       1860  pty0      197609 19:44:04 /usr/bin/ps\n"
   ]
  },
  {
   "cell_type": "markdown",
   "metadata": {},
   "source": [
    "#### Muestra información sobre tu procesador por pantalla"
   ]
  },
  {
   "cell_type": "markdown",
   "metadata": {},
   "source": [
    "Dario@DESKTOP-OQETLG4 MINGW64 ~/Desktop/ironhack/lab-bash (master)\n",
    "$ #> uname -p"
   ]
  },
  {
   "cell_type": "markdown",
   "metadata": {},
   "source": [
    "#### Crea 3 alias y haz que estén disponibles cada vez que inicias sesión"
   ]
  },
  {
   "cell_type": "markdown",
   "metadata": {},
   "source": [
    "Dario@DESKTOP-OQETLG4 MINGW64 ~/Desktop/ironhack/lab-bash (master)\n",
    "$ pwd\n",
    "/c/Users/Dario/Desktop/ironhack/lab-bash\n",
    "\n",
    "Dario@DESKTOP-OQETLG4 MINGW64 ~/Desktop/ironhack/lab-bash (master)\n",
    "$ alias iron='/c/Users/Dario/Desktop/ironhack; source activate ironhack'\n",
    "\n",
    "Dario@DESKTOP-OQETLG4 MINGW64 ~/Desktop/ironhack/lab-bash (master)\n",
    "$ alias iron\n",
    "alias iron='/c/Users/Dario/Desktop/ironhack; source activate ironhack'\n",
    "\n",
    "\n",
    "Dario@DESKTOP-OQETLG4 MINGW64 ~/Desktop/ironhack/lab-bash (master)\n",
    "$ alias lab='/c/Users/Dario/Desktop/ironhack/lab-bash/; source activate ironhack'\n",
    "\n",
    "Dario@DESKTOP-OQETLG4 MINGW64 ~/Desktop/ironhack/lab-bash (master)\n",
    "$ alias lab\n",
    "alias lab='/c/Users/Dario/Desktop/ironhack/lab-bash/; source activate ironhack'\n",
    "\n",
    "\n",
    "Dario@DESKTOP-OQETLG4 MINGW64 ~/Desktop/ironhack/lab-bash (master)\n",
    "$ alias lorem='/c/Users/Dario/Desktop/ironhack/lab-bash/lorem; source activate ironhack'\n",
    "\n",
    "Dario@DESKTOP-OQETLG4 MINGW64 ~/Desktop/ironhack/lab-bash (master)\n",
    "$ alias lorem\n",
    "alias lorem='/c/Users/Dario/Desktop/ironhack/lab-bash/lorem; source activate ironhack'\n"
   ]
  },
  {
   "cell_type": "markdown",
   "metadata": {},
   "source": [
    "#### Comprime las carpetas lorem y lorem-copy en un archivo llamado lorem-compressed.tar.gz"
   ]
  },
  {
   "cell_type": "markdown",
   "metadata": {},
   "source": [
    "Dario@DESKTOP-OQETLG4 MINGW64 ~/Desktop/ironhack/lab-bash (master)\n",
    "$ tar -zcvf lorem.tar.gz /c/Users/Dario/Desktop/ironhack/lab-bash/lorem-compressed.tar.gz\n",
    "Dario@DESKTOP-OQETLG4 MINGW64 ~/Desktop/ironhack/lab-bash (master)\n",
    "$ tar -zcvf lorem-copy.tar.gz /c/Users/Dario/Desktop/ironhack/lab-bash/lorem-compressed.tar.gz\n",
    "\n",
    "Dario@DESKTOP-OQETLG4 MINGW64 ~/Desktop/ironhack/lab-bash (master)\n",
    "$ ls\n",
    "README.md  cp  lorem/  lorem-copy/  lorem-copy.tar.gz  lorem.tar.gz  sed.txt  solutions.ipynb  v\n"
   ]
  },
  {
   "cell_type": "markdown",
   "metadata": {},
   "source": [
    "#### Descomprime el archivo lorem-compressed.tar.gz en la carpeta lorem-uncompressed"
   ]
  },
  {
   "cell_type": "markdown",
   "metadata": {},
   "source": [
    "Dario@DESKTOP-OQETLG4 MINGW64 ~/Desktop/ironhack/lab-bash (master)\n",
    "$ tar -xzvf lorem.tar.gz /c/Users/Dario/Desktop/ironhack/lab-bash/lorem-uncompressed"
   ]
  },
  {
   "cell_type": "markdown",
   "metadata": {},
   "source": [
    "#### Descomprime el archivo lorem-compressed.tar.gz en la carpeta lorem-uncompressed"
   ]
  },
  {
   "cell_type": "markdown",
   "metadata": {},
   "source": [
    "Dario@DESKTOP-OQETLG4 MINGW64 ~/Desktop/ironhack/lab-bash (master)\n",
    "$ tar -xzvf lorem.tar.gz /c/Users/Dario/Desktop/ironhack/lab-bash/lorem-uncompressed"
   ]
  }
 ],
 "metadata": {
  "kernelspec": {
   "display_name": "Python 3",
   "language": "python",
   "name": "python3"
  },
  "language_info": {
   "codemirror_mode": {
    "name": "ipython",
    "version": 3
   },
   "file_extension": ".py",
   "mimetype": "text/x-python",
   "name": "python",
   "nbconvert_exporter": "python",
   "pygments_lexer": "ipython3",
   "version": "3.8.5"
  },
  "toc": {
   "base_numbering": 1,
   "nav_menu": {},
   "number_sections": true,
   "sideBar": true,
   "skip_h1_title": true,
   "title_cell": "Table of Contents",
   "title_sidebar": "Contents",
   "toc_cell": false,
   "toc_position": {},
   "toc_section_display": true,
   "toc_window_display": false
  }
 },
 "nbformat": 4,
 "nbformat_minor": 4
}
